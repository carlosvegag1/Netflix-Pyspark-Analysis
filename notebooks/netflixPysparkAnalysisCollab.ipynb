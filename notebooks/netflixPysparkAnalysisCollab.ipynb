{
  "cells": [
    {
      "cell_type": "markdown",
      "metadata": {
        "id": "5QguozF05jvY"
      },
      "source": [
        "# <center><font color='#DE2138'>Carlos Vega González: NetflixAnalysis.ipynb</font></center>\n",
        "---\n",
        "\n",
        "## Índice de contenidos\n",
        "\n",
        "### [1. Fase de carga de datos](#fase-carga)  \n",
        "[1.1 Importación de librerías](#librerias)  \n",
        "[1.2 Carga de datos](#datos)  \n",
        "\n",
        "---\n",
        "### [2. Fase de limpieza de datos](#fase-limpieza)  \n",
        "[2.1 Renombrado de columnas](#columnas)  \n",
        "[2.2 Conteo de nulos](#nulos)  \n",
        "[2.3 Limpieza de categoría e ID](#categoria-id)  \n",
        "[2.4 Eliminación de valores inválidos](#valores-invalidos)  \n",
        "[2.5 Estandarización de duración](#duracion)  \n",
        "[2.6 Validación de fechas en Netflix](#fechas-netflix)  \n",
        "[2.7 Validación del año de estreno](#ano-estreno)  \n",
        "[2.8 Normalización de subcategoría](#subcategoria)  \n",
        "[2.9 Limpieza de género](#genero)  \n",
        "[2.10 Conversión de tipos de datos](#conversion)  \n",
        "\n",
        "---\n",
        "### [3. Fase de exploración de datos](#fase-exploracion)  \n",
        "[3.1 Duración promedio por país](#duracion-pais)  \n",
        "[3.2 Actor más frecuente en musicales](#actor-musicales)  \n",
        "[3.3 Diferencia semanal entre películas ](#diferencia)  \n",
        "[3.4 Transformación de género a array](#genero-array)  \n",
        "[3.5 Conteo por número de países](#conteo-paises)  \n",
        "[3.6 Exportación a Parquet](#parquet)  \n",
        "\n",
        "---"
      ]
    },
    {
      "cell_type": "markdown",
      "metadata": {
        "id": "UD3ak_Rg5jvb"
      },
      "source": [
        "\n",
        "\n",
        "---\n",
        "\n",
        "\n",
        "## **FASE DE CARGA DE DATOS**\n",
        "\n",
        "---\n",
        "\n"
      ]
    },
    {
      "cell_type": "markdown",
      "metadata": {
        "id": "fLto3imV5jvc"
      },
      "source": [
        "## <h2 id=\"carga\"><center><font color='#1E90FF'>Limpieza y Análisis de Datos de Netflix</font></center></h2>\n",
        "\n",
        "En este documento se detalla el proceso completo de limpieza y análisis de un dataset de títulos de Netflix. Para ello se describen paso a paso las transformaciones realizadas, con justificaciones técnicas de las decisiones tomadas. Cada sección incluye una explicación en Markdown previa al código que se entiende como suficiente para este cuaderno. Por esta misma razón en el código no hay casi comentarios, porque la explicación se cubre en las celdas previas"
      ]
    },
    {
      "cell_type": "markdown",
      "metadata": {
        "id": "kq8jfGzF5jvc"
      },
      "source": [
        "##### Justificación del Uso de CamelCase en Variables y Funciones\n",
        "\n",
        "A lo largo del desarrollo de este notebook, se ha utilizado la convención **CamelCase** para los nombres de variables y funciones, en lugar de la convención tradicional de Python `snake_case`. Este enfoque no ha sido casual, sino que responde a razones de práctica. Aunque en algunos puntos puede haberse colado el uso de `snake_case`, el objetivo ha sido mantener una coherencia con el estilo de Apache Spark y su ecosistema para practicar todo tipo de sintaxis."
      ]
    },
    {
      "cell_type": "markdown",
      "metadata": {
        "id": "HKUSaO_G5jvd"
      },
      "source": [
        "---\n",
        "\n",
        "## <h2 id=\"carga\"><center><font color='#1E90FF'>Importación de Librerías</font></center></h2><a id=\"librerias\"></a>\n",
        "\n",
        "Antes de comenzar con el análisis, preparé el entorno importando todas las librerías necesarias y asegurando una correcta configuración. Debido a que utilizaremos PySpark para el procesamiento avanzado de datos, primero hago la comprobación de que esté correctamente instalado, procediendo con su instalación automática en caso de no encontrarse disponible.\n",
        "\n",
        "Además, importé de manera explícita funciones específicas desde pyspark.sql.functions, evitando la práctica poco recomendada del import *. Para facilitar futuras tareas de extracción automática de información desde páginas web (fechas de estreno desde IMDb), añadí las librerías de scraping requests y BeautifulSoup desde esta etapa inicial del proyecto."
      ]
    },
    {
      "cell_type": "code",
      "execution_count": 1,
      "metadata": {
        "id": "ybJ3iq68904G"
      },
      "outputs": [],
      "source": [
        "try:\n",
        "    import pyspark\n",
        "except ImportError:\n",
        "    !pip install pyspark\n",
        "\n",
        "#Todas las librerías para evitar F.\n",
        "from pyspark.sql import SparkSession\n",
        "from pyspark.sql.functions import (\n",
        "    col, regexp_extract, trim, split, when, to_date, length, sum, avg, round, floor,\n",
        "    expr, lower, explode, max, min, datediff, count, udf\n",
        ")\n",
        "from pyspark.sql.types import IntegerType\n",
        "\n",
        "#Para scraping\n",
        "import requests\n",
        "from bs4 import BeautifulSoup"
      ]
    },
    {
      "cell_type": "markdown",
      "metadata": {
        "id": "iWYzLZM55jvf"
      },
      "source": [
        "## <h2 id=\"carga\"><center><font color='#1E90FF'>Carga de datos</font></center></h2><a id=\"datos\"></a>\n",
        "\n",
        "En este paso, inicié una sesión de Spark y cargué los datos del conjunto de Netflix. Debido a que los datos originales estaban divididos en múltiples archivos CSV comprimidos (siete archivos numerados), utilicé un patrón con wildcards (*) para facilitar la lectura simultánea de todos los archivos en una única instrucción con Spark.\n",
        "\n",
        "Específicamente, utilicé la ruta /tmp/netflix_titles_dirty_*.csv para combinar todos los archivos coincidentes en un único DataFrame. Además, configuré la carga especificando el separador como tabulación (sep=\"\\t\") y permitiendo reconocer el esquema automáticamente.\n",
        "\n",
        "Tras la carga inicial en el DataFrame df, realicé una inspección rápida del esquema y los datos cargados. Este chequeo inicial reveló columnas con nombres genéricos (por ejemplo, _c0, _c1), señalando la necesidad de asignar nombres más significativos para optimizar futuras operaciones.\n",
        "\n",
        "### ¿Cómo lo resolví?\n",
        "Durante esta fase del proceso, realicé las siguientes acciones clave para preparar los datos:\n",
        "\n",
        "1. Creé una sesión de Spark mediante la clase SparkSession.\n",
        "2. Leí múltiples archivos simultáneamente aprovechando rutas con wildcard (*.csv).\n",
        "3. Especificé explícitamente el separador de columnas para asegurar una correcta interpretación de los datos.\n",
        "4. Activé la inspección inicial del DataFrame para identificar columnas con nombres poco descriptivos.\n",
        "\n",
        "### Características del código\n",
        "- **Uso eficiente de rutas wildcard:** Aproveché patrones para combinar múltiples archivos fácilmente.\n",
        "- **Verificación preliminar del esquema`** Utilicé inspecciones rápidas para identificar mejoras inmediatas en la estructura.\n"
      ]
    },
    {
      "cell_type": "code",
      "execution_count": 2,
      "metadata": {
        "id": "LbJy0Olm_Yoc"
      },
      "outputs": [],
      "source": [
        "# Intenté hacerlo a varias líneas pero había que hacer el bucle aplanado\n",
        "# !for i in {01..07}; do\n",
        "#     wget -O \"/tmp/netflix_titles_dirty_$i.csv.gz\" \"https://github.com/datacamp/data-cleaning-with-pyspark-live-training/blob/master/data/netflix_titles_dirty_$i.csv.gz?raw=True\"\n",
        "# done\n"
      ]
    },
    {
      "cell_type": "code",
      "execution_count": 3,
      "metadata": {
        "colab": {
          "base_uri": "https://localhost:8080/"
        },
        "id": "eH0IF35f_bhV",
        "outputId": "6e5e1f42-3d51-44a3-ee3d-77bd2c7fc0ed"
      },
      "outputs": [
        {
          "name": "stdout",
          "output_type": "stream",
          "text": [
            "--2025-03-16 17:25:18--  https://github.com/datacamp/data-cleaning-with-pyspark-live-training/blob/master/data/netflix_titles_dirty_01.csv.gz?raw=True\n",
            "Resolving github.com (github.com)... 140.82.112.4\n",
            "Connecting to github.com (github.com)|140.82.112.4|:443... connected.\n",
            "HTTP request sent, awaiting response... No data received.\n",
            "Retrying.\n",
            "\n",
            "--2025-03-16 17:25:20--  (try: 2)  https://github.com/datacamp/data-cleaning-with-pyspark-live-training/blob/master/data/netflix_titles_dirty_01.csv.gz?raw=True\n",
            "Connecting to github.com (github.com)|140.82.112.4|:443... connected.\n",
            "HTTP request sent, awaiting response... 302 Found\n",
            "Location: https://github.com/datacamp/data-cleaning-with-pyspark-live-training/raw/refs/heads/master/data/netflix_titles_dirty_01.csv.gz [following]\n",
            "--2025-03-16 17:25:20--  https://github.com/datacamp/data-cleaning-with-pyspark-live-training/raw/refs/heads/master/data/netflix_titles_dirty_01.csv.gz\n",
            "Reusing existing connection to github.com:443.\n",
            "HTTP request sent, awaiting response... 302 Found\n",
            "Location: https://raw.githubusercontent.com/datacamp/data-cleaning-with-pyspark-live-training/refs/heads/master/data/netflix_titles_dirty_01.csv.gz [following]\n",
            "--2025-03-16 17:25:20--  https://raw.githubusercontent.com/datacamp/data-cleaning-with-pyspark-live-training/refs/heads/master/data/netflix_titles_dirty_01.csv.gz\n",
            "Resolving raw.githubusercontent.com (raw.githubusercontent.com)... 185.199.108.133, 185.199.109.133, 185.199.110.133, ...\n",
            "Connecting to raw.githubusercontent.com (raw.githubusercontent.com)|185.199.108.133|:443... connected.\n",
            "HTTP request sent, awaiting response... 200 OK\n",
            "Length: 157568 (154K) [application/octet-stream]\n",
            "Saving to: ‘/tmp/netflix_titles_dirty_01.csv.gz’\n",
            "\n",
            "/tmp/netflix_titles 100%[===================>] 153.88K  --.-KB/s    in 0.02s   \n",
            "\n",
            "2025-03-16 17:25:20 (6.73 MB/s) - ‘/tmp/netflix_titles_dirty_01.csv.gz’ saved [157568/157568]\n",
            "\n",
            "--2025-03-16 17:25:20--  https://github.com/datacamp/data-cleaning-with-pyspark-live-training/blob/master/data/netflix_titles_dirty_02.csv.gz?raw=True\n",
            "Resolving github.com (github.com)... 140.82.113.4\n",
            "Connecting to github.com (github.com)|140.82.113.4|:443... connected.\n",
            "HTTP request sent, awaiting response... 302 Found\n",
            "Location: https://github.com/datacamp/data-cleaning-with-pyspark-live-training/raw/refs/heads/master/data/netflix_titles_dirty_02.csv.gz [following]\n",
            "--2025-03-16 17:25:21--  https://github.com/datacamp/data-cleaning-with-pyspark-live-training/raw/refs/heads/master/data/netflix_titles_dirty_02.csv.gz\n",
            "Reusing existing connection to github.com:443.\n",
            "HTTP request sent, awaiting response... 302 Found\n",
            "Location: https://raw.githubusercontent.com/datacamp/data-cleaning-with-pyspark-live-training/refs/heads/master/data/netflix_titles_dirty_02.csv.gz [following]\n",
            "--2025-03-16 17:25:21--  https://raw.githubusercontent.com/datacamp/data-cleaning-with-pyspark-live-training/refs/heads/master/data/netflix_titles_dirty_02.csv.gz\n",
            "Resolving raw.githubusercontent.com (raw.githubusercontent.com)... 185.199.110.133, 185.199.111.133, 185.199.108.133, ...\n",
            "Connecting to raw.githubusercontent.com (raw.githubusercontent.com)|185.199.110.133|:443... connected.\n",
            "HTTP request sent, awaiting response... 200 OK\n",
            "Length: 156095 (152K) [application/octet-stream]\n",
            "Saving to: ‘/tmp/netflix_titles_dirty_02.csv.gz’\n",
            "\n",
            "/tmp/netflix_titles 100%[===================>] 152.44K  --.-KB/s    in 0.02s   \n",
            "\n",
            "2025-03-16 17:25:21 (7.16 MB/s) - ‘/tmp/netflix_titles_dirty_02.csv.gz’ saved [156095/156095]\n",
            "\n",
            "--2025-03-16 17:25:21--  https://github.com/datacamp/data-cleaning-with-pyspark-live-training/blob/master/data/netflix_titles_dirty_03.csv.gz?raw=True\n",
            "Resolving github.com (github.com)... 140.82.112.4\n",
            "Connecting to github.com (github.com)|140.82.112.4|:443... connected.\n",
            "HTTP request sent, awaiting response... 302 Found\n",
            "Location: https://github.com/datacamp/data-cleaning-with-pyspark-live-training/raw/refs/heads/master/data/netflix_titles_dirty_03.csv.gz [following]\n",
            "--2025-03-16 17:25:22--  https://github.com/datacamp/data-cleaning-with-pyspark-live-training/raw/refs/heads/master/data/netflix_titles_dirty_03.csv.gz\n",
            "Reusing existing connection to github.com:443.\n",
            "HTTP request sent, awaiting response... 302 Found\n",
            "Location: https://raw.githubusercontent.com/datacamp/data-cleaning-with-pyspark-live-training/refs/heads/master/data/netflix_titles_dirty_03.csv.gz [following]\n",
            "--2025-03-16 17:25:22--  https://raw.githubusercontent.com/datacamp/data-cleaning-with-pyspark-live-training/refs/heads/master/data/netflix_titles_dirty_03.csv.gz\n",
            "Resolving raw.githubusercontent.com (raw.githubusercontent.com)... 185.199.108.133, 185.199.109.133, 185.199.110.133, ...\n",
            "Connecting to raw.githubusercontent.com (raw.githubusercontent.com)|185.199.108.133|:443... connected.\n",
            "HTTP request sent, awaiting response... 200 OK\n",
            "Length: 156795 (153K) [application/octet-stream]\n",
            "Saving to: ‘/tmp/netflix_titles_dirty_03.csv.gz’\n",
            "\n",
            "/tmp/netflix_titles 100%[===================>] 153.12K  --.-KB/s    in 0.02s   \n",
            "\n",
            "2025-03-16 17:25:22 (6.28 MB/s) - ‘/tmp/netflix_titles_dirty_03.csv.gz’ saved [156795/156795]\n",
            "\n",
            "--2025-03-16 17:25:22--  https://github.com/datacamp/data-cleaning-with-pyspark-live-training/blob/master/data/netflix_titles_dirty_04.csv.gz?raw=True\n",
            "Resolving github.com (github.com)... 140.82.112.3\n",
            "Connecting to github.com (github.com)|140.82.112.3|:443... connected.\n",
            "HTTP request sent, awaiting response... 302 Found\n",
            "Location: https://github.com/datacamp/data-cleaning-with-pyspark-live-training/raw/refs/heads/master/data/netflix_titles_dirty_04.csv.gz [following]\n",
            "--2025-03-16 17:25:22--  https://github.com/datacamp/data-cleaning-with-pyspark-live-training/raw/refs/heads/master/data/netflix_titles_dirty_04.csv.gz\n",
            "Reusing existing connection to github.com:443.\n",
            "HTTP request sent, awaiting response... 302 Found\n",
            "Location: https://raw.githubusercontent.com/datacamp/data-cleaning-with-pyspark-live-training/refs/heads/master/data/netflix_titles_dirty_04.csv.gz [following]\n",
            "--2025-03-16 17:25:22--  https://raw.githubusercontent.com/datacamp/data-cleaning-with-pyspark-live-training/refs/heads/master/data/netflix_titles_dirty_04.csv.gz\n",
            "Resolving raw.githubusercontent.com (raw.githubusercontent.com)... 185.199.110.133, 185.199.111.133, 185.199.108.133, ...\n",
            "Connecting to raw.githubusercontent.com (raw.githubusercontent.com)|185.199.110.133|:443... connected.\n",
            "HTTP request sent, awaiting response... 200 OK\n",
            "Length: 157324 (154K) [application/octet-stream]\n",
            "Saving to: ‘/tmp/netflix_titles_dirty_04.csv.gz’\n",
            "\n",
            "/tmp/netflix_titles 100%[===================>] 153.64K  --.-KB/s    in 0.02s   \n",
            "\n",
            "2025-03-16 17:25:23 (6.89 MB/s) - ‘/tmp/netflix_titles_dirty_04.csv.gz’ saved [157324/157324]\n",
            "\n",
            "--2025-03-16 17:25:23--  https://github.com/datacamp/data-cleaning-with-pyspark-live-training/blob/master/data/netflix_titles_dirty_05.csv.gz?raw=True\n",
            "Resolving github.com (github.com)... 140.82.112.4\n",
            "Connecting to github.com (github.com)|140.82.112.4|:443... connected.\n",
            "HTTP request sent, awaiting response... 302 Found\n",
            "Location: https://github.com/datacamp/data-cleaning-with-pyspark-live-training/raw/refs/heads/master/data/netflix_titles_dirty_05.csv.gz [following]\n",
            "--2025-03-16 17:25:23--  https://github.com/datacamp/data-cleaning-with-pyspark-live-training/raw/refs/heads/master/data/netflix_titles_dirty_05.csv.gz\n",
            "Reusing existing connection to github.com:443.\n",
            "HTTP request sent, awaiting response... 302 Found\n",
            "Location: https://raw.githubusercontent.com/datacamp/data-cleaning-with-pyspark-live-training/refs/heads/master/data/netflix_titles_dirty_05.csv.gz [following]\n",
            "--2025-03-16 17:25:23--  https://raw.githubusercontent.com/datacamp/data-cleaning-with-pyspark-live-training/refs/heads/master/data/netflix_titles_dirty_05.csv.gz\n",
            "Resolving raw.githubusercontent.com (raw.githubusercontent.com)... 185.199.110.133, 185.199.111.133, 185.199.108.133, ...\n",
            "Connecting to raw.githubusercontent.com (raw.githubusercontent.com)|185.199.110.133|:443... connected.\n",
            "HTTP request sent, awaiting response... 200 OK\n",
            "Length: 155120 (151K) [application/octet-stream]\n",
            "Saving to: ‘/tmp/netflix_titles_dirty_05.csv.gz’\n",
            "\n",
            "/tmp/netflix_titles 100%[===================>] 151.48K  --.-KB/s    in 0.02s   \n",
            "\n",
            "2025-03-16 17:25:23 (7.71 MB/s) - ‘/tmp/netflix_titles_dirty_05.csv.gz’ saved [155120/155120]\n",
            "\n",
            "--2025-03-16 17:25:23--  https://github.com/datacamp/data-cleaning-with-pyspark-live-training/blob/master/data/netflix_titles_dirty_06.csv.gz?raw=True\n",
            "Resolving github.com (github.com)... 140.82.112.3\n",
            "Connecting to github.com (github.com)|140.82.112.3|:443... connected.\n",
            "HTTP request sent, awaiting response... 302 Found\n",
            "Location: https://github.com/datacamp/data-cleaning-with-pyspark-live-training/raw/refs/heads/master/data/netflix_titles_dirty_06.csv.gz [following]\n",
            "--2025-03-16 17:25:24--  https://github.com/datacamp/data-cleaning-with-pyspark-live-training/raw/refs/heads/master/data/netflix_titles_dirty_06.csv.gz\n",
            "Reusing existing connection to github.com:443.\n",
            "HTTP request sent, awaiting response... 302 Found\n",
            "Location: https://raw.githubusercontent.com/datacamp/data-cleaning-with-pyspark-live-training/refs/heads/master/data/netflix_titles_dirty_06.csv.gz [following]\n",
            "--2025-03-16 17:25:24--  https://raw.githubusercontent.com/datacamp/data-cleaning-with-pyspark-live-training/refs/heads/master/data/netflix_titles_dirty_06.csv.gz\n",
            "Resolving raw.githubusercontent.com (raw.githubusercontent.com)... 185.199.108.133, 185.199.109.133, 185.199.110.133, ...\n",
            "Connecting to raw.githubusercontent.com (raw.githubusercontent.com)|185.199.108.133|:443... connected.\n",
            "HTTP request sent, awaiting response... 200 OK\n",
            "Length: 157598 (154K) [application/octet-stream]\n",
            "Saving to: ‘/tmp/netflix_titles_dirty_06.csv.gz’\n",
            "\n",
            "/tmp/netflix_titles 100%[===================>] 153.90K  --.-KB/s    in 0.02s   \n",
            "\n",
            "2025-03-16 17:25:24 (7.54 MB/s) - ‘/tmp/netflix_titles_dirty_06.csv.gz’ saved [157598/157598]\n",
            "\n",
            "--2025-03-16 17:25:24--  https://github.com/datacamp/data-cleaning-with-pyspark-live-training/blob/master/data/netflix_titles_dirty_07.csv.gz?raw=True\n",
            "Resolving github.com (github.com)... 140.82.112.3\n",
            "Connecting to github.com (github.com)|140.82.112.3|:443... connected.\n",
            "HTTP request sent, awaiting response... 302 Found\n",
            "Location: https://github.com/datacamp/data-cleaning-with-pyspark-live-training/raw/refs/heads/master/data/netflix_titles_dirty_07.csv.gz [following]\n",
            "--2025-03-16 17:25:24--  https://github.com/datacamp/data-cleaning-with-pyspark-live-training/raw/refs/heads/master/data/netflix_titles_dirty_07.csv.gz\n",
            "Reusing existing connection to github.com:443.\n",
            "HTTP request sent, awaiting response... 302 Found\n",
            "Location: https://raw.githubusercontent.com/datacamp/data-cleaning-with-pyspark-live-training/refs/heads/master/data/netflix_titles_dirty_07.csv.gz [following]\n",
            "--2025-03-16 17:25:24--  https://raw.githubusercontent.com/datacamp/data-cleaning-with-pyspark-live-training/refs/heads/master/data/netflix_titles_dirty_07.csv.gz\n",
            "Resolving raw.githubusercontent.com (raw.githubusercontent.com)... 185.199.108.133, 185.199.109.133, 185.199.110.133, ...\n",
            "Connecting to raw.githubusercontent.com (raw.githubusercontent.com)|185.199.108.133|:443... connected.\n",
            "HTTP request sent, awaiting response... 200 OK\n",
            "Length: 39700 (39K) [application/octet-stream]\n",
            "Saving to: ‘/tmp/netflix_titles_dirty_07.csv.gz’\n",
            "\n",
            "/tmp/netflix_titles 100%[===================>]  38.77K  --.-KB/s    in 0.008s  \n",
            "\n",
            "2025-03-16 17:25:25 (4.77 MB/s) - ‘/tmp/netflix_titles_dirty_07.csv.gz’ saved [39700/39700]\n",
            "\n",
            "-rw-r--r-- 1 root root 366K Mar 16 17:25 /tmp/netflix_titles_dirty_01.csv\n",
            "-rw-r--r-- 1 root root 154K Mar 16 17:25 /tmp/netflix_titles_dirty_01.csv.gz\n",
            "-rw-r--r-- 1 root root 366K Mar 16 17:25 /tmp/netflix_titles_dirty_02.csv\n",
            "-rw-r--r-- 1 root root 153K Mar 16 17:25 /tmp/netflix_titles_dirty_02.csv.gz\n",
            "-rw-r--r-- 1 root root 367K Mar 16 17:25 /tmp/netflix_titles_dirty_03.csv\n",
            "-rw-r--r-- 1 root root 154K Mar 16 17:25 /tmp/netflix_titles_dirty_03.csv.gz\n",
            "-rw-r--r-- 1 root root 372K Mar 16 17:25 /tmp/netflix_titles_dirty_04.csv\n",
            "-rw-r--r-- 1 root root 154K Mar 16 17:25 /tmp/netflix_titles_dirty_04.csv.gz\n",
            "-rw-r--r-- 1 root root 364K Mar 16 17:25 /tmp/netflix_titles_dirty_05.csv\n",
            "-rw-r--r-- 1 root root 152K Mar 16 17:25 /tmp/netflix_titles_dirty_05.csv.gz\n",
            "-rw-r--r-- 1 root root 371K Mar 16 17:25 /tmp/netflix_titles_dirty_06.csv\n",
            "-rw-r--r-- 1 root root 154K Mar 16 17:25 /tmp/netflix_titles_dirty_06.csv.gz\n",
            "-rw-r--r-- 1 root root  91K Mar 16 17:25 /tmp/netflix_titles_dirty_07.csv\n",
            "-rw-r--r-- 1 root root  39K Mar 16 17:25 /tmp/netflix_titles_dirty_07.csv.gz\n"
          ]
        }
      ],
      "source": [
        "!for i in {01..07}; do wget -O \"/tmp/netflix_titles_dirty_$i.csv.gz\" \"https://github.com/datacamp/data-cleaning-with-pyspark-live-training/blob/master/data/netflix_titles_dirty_$i.csv.gz?raw=True\"; done\n",
        "\n",
        "!for file in /tmp/netflix_titles_dirty_*.csv.gz; do gunzip -c \"$file\" > \"${file%.gz}\"; done\n",
        "\n",
        "!ls -lh /tmp/netflix_titles_dirty_* # Added ! to execute as shell command"
      ]
    },
    {
      "cell_type": "code",
      "execution_count": 4,
      "metadata": {
        "colab": {
          "base_uri": "https://localhost:8080/"
        },
        "id": "EnxAMvC5AEov",
        "outputId": "f73b5029-0c70-4916-f2ec-51546f67f245"
      },
      "outputs": [
        {
          "name": "stdout",
          "output_type": "stream",
          "text": [
            "### DataFrame inicial ###\n",
            "Filas totales (antes de cualquier limpieza): 6238\n",
            "+--------+-----+--------------------+-----------+-------------+--------------+-------------+----+-----+------+---------------+--------------------+\n",
            "|     _c0|  _c1|                 _c2|        _c3|          _c4|           _c5|          _c6| _c7|  _c8|   _c9|           _c10|                _c11|\n",
            "+--------+-----+--------------------+-----------+-------------+--------------+-------------+----+-----+------+---------------+--------------------+\n",
            "|80044126|Movie| D.L. Hughley: Clear|Jay Chapman| D.L. Hughley| United States|July 13, 2017|2014|TV-MA|59 min|Stand-Up Comedy|In this 2014 stan...|\n",
            "|80148179|Movie|My Scientology Movie| John Dower|Louis Theroux|United Kingdom|July 13, 2017|2015|TV-MA|99 min|  Documentaries|After speaking wi...|\n",
            "|70301023|Movie|Tom Segura: Compl...|Jay Chapman|   Tom Segura| United States|July 13, 2017|2014|TV-MA|74 min|Stand-Up Comedy|Levelheaded stand...|\n",
            "+--------+-----+--------------------+-----------+-------------+--------------+-------------+----+-----+------+---------------+--------------------+\n",
            "only showing top 3 rows\n",
            "\n",
            "root\n",
            " |-- _c0: string (nullable = true)\n",
            " |-- _c1: string (nullable = true)\n",
            " |-- _c2: string (nullable = true)\n",
            " |-- _c3: string (nullable = true)\n",
            " |-- _c4: string (nullable = true)\n",
            " |-- _c5: string (nullable = true)\n",
            " |-- _c6: string (nullable = true)\n",
            " |-- _c7: string (nullable = true)\n",
            " |-- _c8: string (nullable = true)\n",
            " |-- _c9: string (nullable = true)\n",
            " |-- _c10: string (nullable = true)\n",
            " |-- _c11: string (nullable = true)\n",
            "\n"
          ]
        }
      ],
      "source": [
        "spark = SparkSession.builder.appName(\"netflixAnalysis\").getOrCreate()\n",
        "\n",
        "file_path = \"/tmp/netflix_titles_dirty_*.csv\"\n",
        "df = spark.read.csv(file_path, sep=\"\\t\", inferSchema=True)\n",
        "\n",
        "print(\"### DataFrame inicial ###\")\n",
        "print(f\"Filas totales (antes de cualquier limpieza): {df.count()}\")\n",
        "df.show(3)\n",
        "df.printSchema()"
      ]
    },
    {
      "cell_type": "markdown",
      "metadata": {
        "id": "aN7gEp83M4pD"
      },
      "source": [
        "\n",
        "\n",
        "---\n",
        "\n",
        "\n",
        "## **FASE DE LIMPIEZA DE DATOS**\n",
        "\n",
        "---\n",
        "\n"
      ]
    },
    {
      "cell_type": "markdown",
      "metadata": {
        "id": "LuoYq4tk5jvh"
      },
      "source": [
        "## <center><font color='#1E90FF'>Renombrado de columnas  <a id=\"columnas\"></a></font></center>\n",
        "\n",
        "El siguiente paso consistió en **renombrar las columnas del DataFrame**, que originalmente presentaban nombres genéricos (ej. `_c0`, `_c1`, `_c2`), por nombres más descriptivos que facilitan enormemente la comprensión del análisis posterior.\n",
        "\n",
        "Para ello, creé un diccionario donde almacené los pares clave-valor con el formato original y el nuevo nombre deseado:\n",
        "\n",
        "- `_c0` → **id**: Identificador único del título.\n",
        "- `_c1` → **categoria**: Tipo de contenido (\"Movie\" o \"TV Show\").\n",
        "- `_c2` → **titulo**: Título del contenido.\n",
        "- `_c3` → **director**: Nombre del director o elenco de directores/as.\n",
        "- `_c4` → **reparto**: Actores principales del contenido.\n",
        "- `_c5` → **pais**: País de origen del contenido.\n",
        "- `_c6` → **estrenoNetflix**: Fecha de estreno en Netflix.\n",
        "- `_c7` → **anioEstrenoReal**: Año original de lanzamiento del contenido.\n",
        "- `_c8` → **subcategoria**: Clasificación de edad o subcategoría adicional.\n",
        "- `_c9` → **duracion**: Duración en minutos o número de temporadas.\n",
        "- `_c10` → **genero**: Género del contenido.\n",
        "- `_c11` → **descripcion**: Descripción o sinopsis del contenido.\n",
        "\n",
        "### ¿Cómo lo resolví?\n",
        "\n",
        "Me enfoqué en estos puntos clave para clarificar el contenido del DataFrame:\n",
        "\n",
        "- **Definí claramente un diccionario** con los nuevos nombres de columnas.\n",
        "- Utilicé la función `withColumnRenamed()` de Spark para actualizar los nombres fácilmente.\n",
        "- Realicé una comprobación rápida con `.show()` para asegurar que los cambios fueran efectivos y las columnas reflejaran correctamente la información."
      ]
    },
    {
      "cell_type": "code",
      "execution_count": 5,
      "metadata": {
        "colab": {
          "base_uri": "https://localhost:8080/"
        },
        "id": "ei7Qpk1W94mW",
        "outputId": "5b553283-033e-42f5-cad9-600e55aecb27"
      },
      "outputs": [
        {
          "name": "stdout",
          "output_type": "stream",
          "text": [
            "+--------+---------+--------------------+-----------+-------------+--------------+--------------+---------------+------------+--------+---------------+--------------------+\n",
            "|      id|categoria|              titulo|   director|      reparto|          pais|estrenoNetflix|anioEstrenoReal|subcategoria|duracion|         genero|         descripcion|\n",
            "+--------+---------+--------------------+-----------+-------------+--------------+--------------+---------------+------------+--------+---------------+--------------------+\n",
            "|80044126|    Movie| D.L. Hughley: Clear|Jay Chapman| D.L. Hughley| United States| July 13, 2017|           2014|       TV-MA|  59 min|Stand-Up Comedy|In this 2014 stan...|\n",
            "|80148179|    Movie|My Scientology Movie| John Dower|Louis Theroux|United Kingdom| July 13, 2017|           2015|       TV-MA|  99 min|  Documentaries|After speaking wi...|\n",
            "|70301023|    Movie|Tom Segura: Compl...|Jay Chapman|   Tom Segura| United States| July 13, 2017|           2014|       TV-MA|  74 min|Stand-Up Comedy|Levelheaded stand...|\n",
            "+--------+---------+--------------------+-----------+-------------+--------------+--------------+---------------+------------+--------+---------------+--------------------+\n",
            "only showing top 3 rows\n",
            "\n"
          ]
        }
      ],
      "source": [
        "df = df.withColumnRenamed(\"_c0\", \"id\")\\\n",
        "       .withColumnRenamed(\"_c1\", \"categoria\")\\\n",
        "       .withColumnRenamed(\"_c2\", \"titulo\")\\\n",
        "       .withColumnRenamed(\"_c3\", \"director\")\\\n",
        "       .withColumnRenamed(\"_c4\", \"reparto\")\\\n",
        "       .withColumnRenamed(\"_c5\", \"pais\")\\\n",
        "       .withColumnRenamed(\"_c6\", \"estrenoNetflix\")\\\n",
        "       .withColumnRenamed(\"_c7\", \"anioEstrenoReal\")\\\n",
        "       .withColumnRenamed(\"_c8\", \"subcategoria\")\\\n",
        "       .withColumnRenamed(\"_c9\", \"duracion\")\\\n",
        "       .withColumnRenamed(\"_c10\", \"genero\")\\\n",
        "       .withColumnRenamed(\"_c11\", \"descripcion\")\n",
        "\n",
        "df.show(3)"
      ]
    },
    {
      "cell_type": "markdown",
      "metadata": {
        "id": "wQnRUH2Cc_lu"
      },
      "source": [
        "Tras la primera revisión manual de los datos, lo primero que se asume es que puede haber registros en los que director y reparto hayan sido intercambiados accidentalmente, pero es imposible diferenciarlos de manera automática debido a la falta de un patrón claro para detectar estos errores (en ambos hay nomnbres de una o varias personas)"
      ]
    },
    {
      "cell_type": "markdown",
      "metadata": {
        "id": "qPOt9fuK5jvi"
      },
      "source": [
        "## <center><font color='#1E90FF'>Conteo de nulos <a id=\"nulos\"></a></font></center>\n",
        "\n",
        "A continuación, realicé una evaluación preliminar del conjunto de datos original, enfocándome especialmente en identificar la cantidad de valores nulos presentes en cada columna. Este análisis inicial resulta crucial para determinar la magnitud del problema de datos incompletos.\n",
        "\n",
        "Para llevar a cabo esta tarea, implementé la función personalizada `contar_nulos()`, basada en funciones nativas de PySpark. Esta función permitió obtener rápidamente un resumen numérico sobre los datos faltantes, facilitando decisiones posteriores en la limpieza.\n",
        "\n",
        "### ¿Cómo lo resolví?\n",
        "\n",
        "En esta fase, mi enfoque fue obtener un panorama claro sobre la calidad inicial de los datos, especialmente respecto a valores nulos. Los pasos seguidos fueron:\n",
        "\n",
        "- Creé la función `contar_nulos()` para identificar rápidamente columnas problemáticas.\n",
        "- Ejecuté esta función sobre el DataFrame original antes de cualquier modificación.\n",
        "- Analicé la salida para identificar prioridades en los siguientes pasos del proceso de limpieza.\n"
      ]
    },
    {
      "cell_type": "code",
      "execution_count": 6,
      "metadata": {
        "colab": {
          "base_uri": "https://localhost:8080/"
        },
        "id": "njWTi0wyejWZ",
        "outputId": "6f01a0e5-5f0e-445e-edf4-89c99711be92"
      },
      "outputs": [
        {
          "name": "stdout",
          "output_type": "stream",
          "text": [
            "            columna  nulos\n",
            "0                id      2\n",
            "1         categoria     59\n",
            "2            titulo     64\n",
            "3          director   2012\n",
            "4           reparto    629\n",
            "5              pais    537\n",
            "6    estrenoNetflix     80\n",
            "7   anioEstrenoReal     74\n",
            "8      subcategoria     84\n",
            "9          duracion     76\n",
            "10           genero     83\n",
            "11      descripcion     86\n"
          ]
        }
      ],
      "source": [
        "def contar_nulos(df):\n",
        "    nulos_df = df.select([(sum(col(c).isNull().cast(\"int\")).alias(c)) for c in df.columns])\n",
        "\n",
        "    resultado = nulos_df.toPandas().transpose().reset_index().rename(columns={'index': 'columna', 0: 'nulos'})\n",
        "    return resultado\n",
        "\n",
        "resultado = contar_nulos(df)\n",
        "print(resultado)\n"
      ]
    },
    {
      "cell_type": "markdown",
      "metadata": {
        "id": "5A951VtUzzVs"
      },
      "source": [
        "## <center><font color='#1E90FF'>Limpieza de categoría e ID <a id=\"categoria-id\"></a></font></center>\n",
        "\n",
        "El siguiente paso consistió en limpiar y estandarizar las columnas `categoria` e `id`, cruciales para identificar los registros de forma única y clasificar el contenido adecuadamente. Para lograrlo, ejecuté estos pasos:\n",
        "\n",
        "- **Filtrado de categorías:** Conservé únicamente las filas con categorías válidas (`Movie`, `TV Show`), eliminando cualquier categoría inesperada.\n",
        "- **Conversión de ID:** Transformé los identificadores (`id`) al tipo numérico entero (`IntegerType`). Esto marcó como nulos los IDs no numéricos.\n",
        "- **Eliminación de IDs inválidos:** Descarté registros cuyo ID convertido fuese nulo o no cumpliera exactamente con la longitud requerida de 8 dígitos (asumiendo que los IDs de Netflix siguen este estándar).\n",
        "- **Eliminación de duplicados:** Finalmente, removí registros duplicados basados en la columna `id` para asegurar la unicidad.\n",
        "\n",
        "Encapsulé todo el procedimiento en la función `limpiarCategoriaId()`, que posteriormente apliqué sobre el DataFrame original `df`, obteniendo así un nuevo DataFrame limpio denominado `dfLimpio`. Este nuevo conjunto de datos contiene exclusivamente películas y series correctamente identificadas por IDs únicos y válidos.\n",
        "\n",
        "---\n"
      ]
    },
    {
      "cell_type": "code",
      "execution_count": 7,
      "metadata": {
        "id": "vsLm-O6r0b6y"
      },
      "outputs": [],
      "source": [
        "def limpiarCategoriaId(df):\n",
        "    categoriasValidas = [\"Movie\", \"TV Show\"]\n",
        "    dfLimpio = df.filter(df.categoria.isin(categoriasValidas))\n",
        "    dfLimpio = dfLimpio.withColumn(\"id\", dfLimpio.id.cast(IntegerType()))\n",
        "    dfLimpio = dfLimpio.filter(dfLimpio.id.isNotNull())\n",
        "    dfLimpio = dfLimpio.filter(length(dfLimpio.id.cast(\"string\")) == 8)\n",
        "    dfLimpio = dfLimpio.dropDuplicates([\"id\"])\n",
        "    return dfLimpio\n",
        "\n",
        "dfLimpio = limpiarCategoriaId(df)"
      ]
    },
    {
      "cell_type": "markdown",
      "metadata": {
        "id": "U6QLnUdP0ddC"
      },
      "source": [
        "## <center><font color='#1E90FF'>Eliminación de valores inválidos <a id=\"valores-invalidos\"></a></font></center>\n",
        "\n",
        "El siguiente paso consistió en identificar y eliminar valores inválidos en columnas de texto esenciales (**titulo**, **director**, **reparto**, **descripcion** y **pais**), ya que se observó que contenían información incorrecta como URLs, correos electrónicos, números aislados o fechas. Para lograr esto, definí patrones mediante expresiones regulares (regex) que detectan específicamente:\n",
        "\n",
        "- **URLs**: cadenas que comienzan con `http://` o `https://`.\n",
        "- **Correos electrónicos**: formatos habituales que contienen un símbolo `@` seguido de un dominio.\n",
        "- **Números puros**: cadenas compuestas exclusivamente por dígitos, sin caracteres alfabéticos.\n",
        "- **Fechas textuales**: fechas escritas en inglés como `\"January 31, 2019\"`.\n",
        "\n",
        "La solución consistió en construir filtros booleanos basados en estas expresiones regulares para detectar filas inválidas, y posteriormente eliminar dichas filas del DataFrame. Repetí este proceso para cada columna relevante, asegurando así que todas las filas conservadas contuvieran información coherente y válida para el análisis."
      ]
    },
    {
      "cell_type": "code",
      "execution_count": 8,
      "metadata": {
        "id": "7gMT8ce90049"
      },
      "outputs": [],
      "source": [
        "columnas = [\"director\", \"reparto\", \"descripcion\", \"pais\"]\n",
        "patrones = [\n",
        "    r\"(?i)^https?://\",\n",
        "    r\"(?i)^[A-Z0-9._%+-]+@[A-Z0-9.-]+\\.[A-Z]{2,}$\",\n",
        "    r\"^[0-9]+$\",\n",
        "    r\"^(January|February|March|April|May|June|July|August|September|October|November|December)\\\\s+\\\\d{1,2},\\\\s+\\\\d{4}$\"\n",
        "]\n",
        "condiciones = None\n",
        "for columna in columnas:\n",
        "    for patron in patrones:\n",
        "        nueva_condicion = col(columna).rlike(patron)\n",
        "        if condiciones is None:\n",
        "            condiciones = nueva_condicion\n",
        "        else:\n",
        "            condiciones = condiciones | nueva_condicion\n",
        "\n",
        "dfLimpio = dfLimpio.filter(~condiciones)\n"
      ]
    },
    {
      "cell_type": "markdown",
      "metadata": {
        "id": "HfukXYAm5jvi"
      },
      "source": [
        "El campo titulo se analiza de manera diferente porque, a diferencia de los otros, puede contener números de forma válida. En algunas producciones, los títulos incluyen caracteres numéricos como parte del nombre oficial, por ejemplo, \"300\","
      ]
    },
    {
      "cell_type": "code",
      "execution_count": 9,
      "metadata": {
        "id": "a_qgEAPb0mw6"
      },
      "outputs": [],
      "source": [
        "columnas = [\"titulo\"]\n",
        "patrones = [\n",
        "    r\"(?i)^https?://\",  # URL\n",
        "    r\"(?i)^[A-Z0-9._%+-]+@[A-Z0-9.-]+\\.[A-Z]{2,}$\",  # correo\n",
        "    r\"^(January|February|March|April|May|June|July|August|September|October|November|December)\\\\s+\\\\d{1,2},\\\\s+\\\\d{4}$\" # Fechas en inglés\n",
        "]\n",
        "condiciones = None\n",
        "for columna in columnas:\n",
        "    for patron in patrones:\n",
        "        nueva_condicion = col(columna).rlike(patron)\n",
        "        if condiciones is None:\n",
        "            condiciones = nueva_condicion\n",
        "        else:\n",
        "            condiciones = condiciones | nueva_condicion\n",
        "\n",
        "dfLimpio = dfLimpio.filter(~condiciones)"
      ]
    },
    {
      "cell_type": "markdown",
      "metadata": {
        "id": "7S_xyVrC05P9"
      },
      "source": [
        "## <center><font color='#1E90FF'>Estandarización de duración <a id=\"duracion\"></a></font></center>\n",
        "\n",
        "En este punto, procedí a estandarizar la columna `duracion`, separando claramente las duraciones de películas (en minutos) y el número de temporadas de las series en columnas independientes, facilitando así futuras operaciones numéricas:\n",
        "\n",
        "- **`duracionMin`**: Almacena duración en minutos (tipo entero) para películas.\n",
        "- **`numTemporadas`**: Almacena número de temporadas (tipo entero) para series.\n",
        "\n",
        "Para lograr esto, definí expresiones regulares que extraen exclusivamente números seguidos por «min» o «Season(s)», asignando estos valores en las nuevas columnas mediante las funciones `when()`, `rlike()` y `regexp_extract()`. Finalmente, eliminé filas con valores inesperados en la columna original.\n"
      ]
    },
    {
      "cell_type": "code",
      "execution_count": 10,
      "metadata": {
        "id": "O00-Ijao05i8"
      },
      "outputs": [],
      "source": [
        "regexMin = r\"(\\d+)\\s+min$\"\n",
        "regexSeasons = r\"(\\d+)\\s+Seasons?$\"\n",
        "\n",
        "dfLimpio = dfLimpio.withColumn(\n",
        "    \"duracionMin\",\n",
        "    when(dfLimpio.duracion.rlike(regexMin), regexp_extract(dfLimpio.duracion, regexMin, 1).cast(\"int\"))\n",
        ").withColumn(\n",
        "    \"numTemporadas\",\n",
        "    when(dfLimpio.duracion.rlike(regexSeasons), regexp_extract(dfLimpio.duracion, regexSeasons, 1).cast(\"int\"))\n",
        ")\n",
        "\n",
        "# Ahora filtrar\n",
        "dfLimpio = dfLimpio.filter((dfLimpio.duracionMin.isNotNull()) | (dfLimpio.numTemporadas.isNotNull()))"
      ]
    },
    {
      "cell_type": "markdown",
      "metadata": {
        "id": "IKZ-hHrB09d9"
      },
      "source": [
        "## <center><font color='#1E90FF'>Validación de fechas en Netflix <a id=\"fechas-netflix\"></a></font></center>\n",
        "\n",
        "En esta fase, me centré en limpiar y validar la columna `estrenoNetflix`, la cual representa las fechas en que los títulos fueron estrenados en Netflix. Debido a que los datos originales podían contener formatos variados o inconsistentes, realicé lo siguiente:\n",
        "\n",
        "- **Estandarización de formato:** Utilicé expresiones como `\"January 1, 2020\"` para convertir textos a fechas reconocibles por Spark, eliminando espacios innecesarios y errores comunes.\n",
        "- **Conversión a tipo fecha:** Transformé los textos válidos al formato de fecha reconocido formalmente por Spark mediante `to_date()` con el formato `\"MMMM d, yyyy\"`.\n",
        "- **Filtrado:** Conservé únicamente aquellas filas cuya conversión resultó exitosa, descartando registros con fechas inválidas o inconsistentes.\n",
        "\n",
        "Con esto garantizo que todas las fechas almacenadas en `estrenoNetflix` sean válidas y uniformes, facilitando significativamente las operaciones analíticas posteriores.\n",
        "\n",
        "\n",
        "---\n",
        "\n",
        "### Características del código\n",
        "\n",
        "- **Uso de `trim()` y `to_date()`:** Garantizan uniformidad y reconocimiento efectivo de las fechas.\n",
        "- **Filtro basado en conversión:** Permite mantener únicamente fechas válidas y consistentes para análisis temporales.\n"
      ]
    },
    {
      "cell_type": "code",
      "execution_count": null,
      "metadata": {
        "id": "NsJ_A4Mg0_t1"
      },
      "outputs": [],
      "source": [
        "dfLimpio = dfLimpio.withColumn(\"estrenoNetflix\", trim(dfLimpio.estrenoNetflix))\n",
        "dfLimpio = dfLimpio.filter(to_date(dfLimpio.estrenoNetflix, \"MMMM d, yyyy\").isNotNull())"
      ]
    },
    {
      "cell_type": "markdown",
      "metadata": {
        "id": "MdUSx6sg1GQ6"
      },
      "source": [
        "## <center><font color='#1E90FF'>Validación del año de estreno <a id=\"ano-estreno\"></a></font></center>\n",
        "\n",
        "El siguiente paso fue validar la columna **anioEstrenoReal**, que registra el año original de estreno (cine o TV). Detecté valores incorrectos como texto, años imposibles o nulos. Para garantizar coherencia y calidad, realicé lo siguiente:\n",
        "\n",
        "- **Conversión a numérico**: Transformé la columna a tipo entero, marcando automáticamente como nulos los valores no numéricos o inconsistentes.\n",
        "- **Filtrado de nulos**: Eliminé filas cuyo año resultó nulo tras la conversión (años inválidos o texto).\n",
        "\n",
        "Este proceso eliminó errores típicos como textos en campos numéricos o años extremos improbables, dejando un conjunto de datos con años válidos, numéricos y consistentes."
      ]
    },
    {
      "cell_type": "code",
      "execution_count": 12,
      "metadata": {
        "id": "sfKZ3HCF1GkD"
      },
      "outputs": [],
      "source": [
        "dfLimpio = dfLimpio.withColumn(\"anioEstrenoReal\", dfLimpio.anioEstrenoReal.cast(\"int\"))\n",
        "dfLimpio = dfLimpio.filter(dfLimpio.anioEstrenoReal.isNotNull())"
      ]
    },
    {
      "cell_type": "markdown",
      "metadata": {
        "id": "hW870KQf1LGS"
      },
      "source": [
        "## <center><font color='#1E90FF'>Normalización de subcategoría <a id=\"subcategoria\"></a></font></center>\n",
        "\n",
        "El siguiente paso fue limpiar y normalizar la columna `subcategoria`, ya que contenía datos mixtos: clasificaciones por edad (por ejemplo, `\"PG-13\"`), o valores redundantes de duración en minutos o temporadas. Para solucionar esto:\n",
        "\n",
        "- Definí una lista con clasificaciones de audiencia válidas (`\"PG\"`, `\"TV-MA\"`, `\"R\"`, etc.).\n",
        "- Apliqué la función `trim()` para eliminar espacios extra.\n",
        "- Usé sentencias `when()` encadenadas para clasificar los valores:\n",
        "  - Si el valor era una clasificación válida, lo mantuve tal cual.\n",
        "  - Si coincidía con el patrón de minutos (`regexMin`), extraje el valor numérico.\n",
        "  - Si coincidía con temporadas (`regexSeasons`), extraje igualmente el número.\n",
        "  - Si no cumplía ninguno de estos casos, asigné valor nulo.\n",
        "- Finalmente, filtré para conservar únicamente filas con valores válidos tras esta normalización.\n",
        "\n",
        "**Con esta estrategia, ahora la columna `subcategoria` contiene solo clasificaciones claras o valores numéricos, eliminando casos confusos o irrelevantes.**\n",
        "\n",
        "---\n"
      ]
    },
    {
      "cell_type": "code",
      "execution_count": null,
      "metadata": {
        "id": "wwPetcX41LS6"
      },
      "outputs": [],
      "source": [
        "categorias_validas = [\"G\", \"PG\", \"PG-13\", \"R\", \"NC-17\", \"NR\", \"UR\",\"TV-G\", \"TV-PG\", \"TV-Y\", \"TV-Y7\", \"TV-Y7-FV\", \"TV-14\", \"TV-MA\"]\n",
        "dfLimpio = dfLimpio.withColumn(\"subcategoria\", trim(col(\"subcategoria\")))\n",
        "\n",
        "dfLimpio = dfLimpio.withColumn(\n",
        "    \"subcategoria\",\n",
        "    when(col(\"subcategoria\").isin(categorias_validas), col(\"subcategoria\"))\n",
        "    .when(col(\"subcategoria\").rlike(regexMin), regexp_extract(col(\"subcategoria\"), regexMin, 1).cast(\"int\"))\n",
        "    .when(col(\"subcategoria\").rlike(regexSeasons), regexp_extract(col(\"subcategoria\"), regexSeasons, 1).cast(\"int\"))\n",
        "    .otherwise(None)\n",
        ")\n",
        "\n",
        "dfLimpio = dfLimpio.filter(col(\"subcategoria\").isNotNull())"
      ]
    },
    {
      "cell_type": "markdown",
      "metadata": {
        "id": "Tjm6SJi41SUZ"
      },
      "source": [
        "## <center><font color='#1E90FF'>Limpieza de género <a id=\"genero\"></a></font></center>\n",
        "\n",
        "La siguiente etapa consistió en limpiar la columna `género`, que incluye listas de géneros separadas por comas (ej.: `\"Comedy, Drama\"`). Para mantener la calidad del análisis y asegurar la consistencia, realicé los siguientes pasos:\n",
        "\n",
        "- **Eliminación de valores vacíos o nulos:** Removí los registros sin información en la columna género, asumiendo que cada título debe contar con al menos un género válido.\n",
        "\n",
        "- **Normalización del formato:** Aunque idealmente validaría los géneros frente a una lista predefinida (ej.: `\"Comedy\"`, `\"Drama\"`, `\"Action\"`), aquí asumí que los géneros restantes eran válidos y me enfoqué en asegurar su formato correcto.\n",
        "\n",
        "Tras este proceso, la columna `género` quedó limpia, completa y preparada para transformaciones adicionales en fases posteriores.\n",
        "\n",
        "---\n"
      ]
    },
    {
      "cell_type": "code",
      "execution_count": null,
      "metadata": {
        "id": "OVWjcXQk-KFT"
      },
      "outputs": [],
      "source": [
        "dfLimpio = dfLimpio.filter(dfLimpio.genero.isNotNull())"
      ]
    },
    {
      "cell_type": "markdown",
      "metadata": {
        "id": "m2h6NGqT1W1K"
      },
      "source": [
        "### Resumen de transformaciones\n",
        "\n",
        "Finalmente, se muestra un ejemplo de cómo comparar el DataFrame original versus el DataFrame limpio, revisando la cantidad de filas y el schema para verificar el resultado global de la limpieza.\n"
      ]
    },
    {
      "cell_type": "code",
      "execution_count": 15,
      "metadata": {
        "colab": {
          "base_uri": "https://localhost:8080/"
        },
        "id": "WU1VYEBKehrH",
        "outputId": "b5ab13e1-7ea2-4895-c93a-a9f98530be15"
      },
      "outputs": [
        {
          "name": "stdout",
          "output_type": "stream",
          "text": [
            "            columna  nulos\n",
            "0                id      0\n",
            "1         categoria      0\n",
            "2            titulo      0\n",
            "3          director      0\n",
            "4           reparto      0\n",
            "5              pais      0\n",
            "6    estrenoNetflix      0\n",
            "7   anioEstrenoReal      0\n",
            "8      subcategoria      0\n",
            "9          duracion      0\n",
            "10           genero      0\n",
            "11      descripcion      0\n",
            "12      duracionMin     95\n",
            "13    numTemporadas   3532\n",
            "----- ANTES DE LA LIMPIEZA -----\n",
            "Filas totales: 6238\n",
            "\n",
            "----- DESPUÉS DE LA LIMPIEZA -----\n",
            "Filas totales: 3627\n",
            "+--------+---------+--------------------+----------------+--------------------+--------------+-----------------+---------------+------------+--------+--------------------+--------------------+-----------+-------------+\n",
            "|      id|categoria|              titulo|        director|             reparto|          pais|   estrenoNetflix|anioEstrenoReal|subcategoria|duracion|              genero|         descripcion|duracionMin|numTemporadas|\n",
            "+--------+---------+--------------------+----------------+--------------------+--------------+-----------------+---------------+------------+--------+--------------------+--------------------+-----------+-------------+\n",
            "|11546798|    Movie|            Lifeline|      Johnnie To|Lau Ching Wan, Al...|     Hong Kong|  August 16, 2018|           1997|       TV-14| 104 min|Action & Adventur...|Johnnie To's char...|        104|         NULL|\n",
            "|16914787|    Movie|         BASEketball|    David Zucker|Trey Parker, Matt...| United States| November 1, 2018|           1998|           R| 103 min|Comedies, Sports ...|When two slackers...|        103|         NULL|\n",
            "|16944044|    Movie|Lock, Stock and T...|     Guy Ritchie|Jason Flemyng, De...|United Kingdom|  January 1, 2019|           1998|           R| 108 min|Action & Adventur...|Hoping to make a ...|        108|         NULL|\n",
            "|17457622|    Movie|              Judwaa|    David Dhawan|Salman Khan, Kari...|         India|December 31, 2019|           1997|       TV-14| 133 min|Comedies, Interna...|Separated at birt...|        133|         NULL|\n",
            "|17457962|    Movie|     Raja Hindustani|Dharmesh Darshan|Aamir Khan, Karis...|         India|      May 1, 2017|           1996|       TV-14| 177 min|Dramas, Internati...|When a poor taxi ...|        177|         NULL|\n",
            "+--------+---------+--------------------+----------------+--------------------+--------------+-----------------+---------------+------------+--------+--------------------+--------------------+-----------+-------------+\n",
            "only showing top 5 rows\n",
            "\n"
          ]
        }
      ],
      "source": [
        "resultado = contar_nulos(dfLimpio)\n",
        "print(resultado)\n",
        "\n",
        "print(\"----- ANTES DE LA LIMPIEZA -----\")\n",
        "print(f\"Filas totales: {df.count()}\")\n",
        "print(\"\\n----- DESPUÉS DE LA LIMPIEZA -----\")\n",
        "print(f\"Filas totales: {dfLimpio.count()}\")\n",
        "dfLimpio.show(5)\n"
      ]
    },
    {
      "cell_type": "markdown",
      "metadata": {
        "id": "NH_VZf3399gM"
      },
      "source": [
        "## <center><font color='#1E90FF'>Conversión de tipos de datos <a id=\"conversion\"></a></font></center>\n",
        "\n",
        "El siguiente paso fue realizar una última conversión de tipos en el DataFrame (`dfLimpio`), garantizando que todas las columnas tuviesen el formato correcto antes de iniciar el análisis exploratorio. Para ello:\n",
        "\n",
        "- **`duracion`**: Convertí esta columna a tipo entero, extrayendo únicamente el valor numérico inicial (minutos o temporadas), aunque ya disponíamos de columnas específicas (`duracionMin`, `numTemporadas`).\n",
        "\n",
        "- **`anioEstrenoReal`**: Confirmé que se mantuviera como tipo entero tras la limpieza previa.\n",
        "\n",
        "- **`estrenoNetflix`**: Transformé esta columna a formato fecha (`DateType`) utilizando el patrón `\"MMMM d, yyyy\"`, esencial para futuros análisis temporales.\n",
        "\n",
        "Finalmente, comprobé que todas las conversiones se aplicaron correctamente revisando el esquema actualizado del DataFrame.\n"
      ]
    },
    {
      "cell_type": "code",
      "execution_count": 16,
      "metadata": {
        "colab": {
          "base_uri": "https://localhost:8080/"
        },
        "id": "9vIOcWjQF8sz",
        "outputId": "4a2595da-6d96-477e-f9d9-afc8d07745be"
      },
      "outputs": [
        {
          "name": "stdout",
          "output_type": "stream",
          "text": [
            "id: IntegerType()\n",
            "categoria: StringType()\n",
            "titulo: StringType()\n",
            "director: StringType()\n",
            "reparto: StringType()\n",
            "pais: StringType()\n",
            "estrenoNetflix: DateType()\n",
            "anioEstrenoReal: IntegerType()\n",
            "subcategoria: StringType()\n",
            "duracion: IntegerType()\n",
            "genero: StringType()\n",
            "descripcion: StringType()\n",
            "duracionMin: IntegerType()\n",
            "numTemporadas: IntegerType()\n"
          ]
        }
      ],
      "source": [
        "dfLimpio = dfLimpio.withColumn(\"duracion\", split(dfLimpio.duracion, \" \")[0].cast(\"int\")) \\\n",
        "       .withColumn(\"anioEstrenoReal\", dfLimpio.anioEstrenoReal.cast(\"int\")) \\\n",
        "       .withColumn(\"estrenoNetflix\", to_date(dfLimpio.estrenoNetflix, \"MMMM d, yyyy\"))\n",
        "\n",
        "for columna in dfLimpio.schema.fields:\n",
        "    print(f\"{columna.name}: {columna.dataType}\")"
      ]
    },
    {
      "cell_type": "markdown",
      "metadata": {
        "id": "leZ1oigW5jvl"
      },
      "source": [
        "\n",
        "\n",
        "---\n",
        "\n",
        "\n",
        "## **FASE DE EXPLORACIÓN DE DATOS**\n",
        "\n",
        "---\n",
        "\n"
      ]
    },
    {
      "cell_type": "markdown",
      "metadata": {
        "id": "mE5NvIR19_CF"
      },
      "source": [
        "## <center><font color='#1E90FF'>Duración promedio por país <a id=\"duracion-pais\"></a></font></center>\n",
        "\n",
        "Una consulta clave del análisis fue determinar la duración promedio de las películas según el país productor. Sin embargo, el campo `pais` incluye casos de coproducciones (varios países separados por coma), lo que nos lleva a dos enfoques posibles:\n",
        "\n",
        "**1. Promedio por país combinado:**\n",
        "- Cada combinación de países cuenta como un único grupo (ej.: `\"Estados Unidos, India\"` sería un grupo independiente).\n",
        "\n",
        "**2. Promedio por país individual:**\n",
        "- Cada país involucrado se considera por separado, distribuyendo la duración a cada país participante.\n",
        "\n",
        "Para abordar ambos casos realicé lo siguiente:\n",
        "\n",
        "### **Cálculo por país combinado**\n",
        "- Utilicé directamente la columna `pais` original, promediando la duración en minutos (`duracionMin`) solo para películas (descartando series, que no tienen minutos asociados).\n",
        "\n",
        "### **Cálculo por país individual**\n",
        "- Dividí la columna de países mediante `split()` generando múltiples filas con `explode()`, asignando así una fila por país individual.\n",
        "- Sobre este DataFrame ampliado, recalculé la duración media en minutos.\n",
        "- Presenté estos resultados en minutos y segundos, mejorando su claridad visual.\n",
        "\n",
        "Finalmente, comparé ambos enfoques destacando las diferencias entre medir por país combinado o individual, demostrando cómo influyen las coproducciones en métricas clave como la duración promedio.\n",
        "\n",
        "---"
      ]
    },
    {
      "cell_type": "code",
      "execution_count": 17,
      "metadata": {
        "colab": {
          "base_uri": "https://localhost:8080/"
        },
        "id": "4u80qQB79_Ue",
        "outputId": "c475a18c-f9a8-47fb-a082-baae95868072"
      },
      "outputs": [
        {
          "name": "stdout",
          "output_type": "stream",
          "text": [
            "+--------------------------------------+-------------+\n",
            "|pais                                  |mediaDuracion|\n",
            "+--------------------------------------+-------------+\n",
            "|South Africa, United States, Germany  |106.0        |\n",
            "|Chile, United States, France          |96.0         |\n",
            "|Hong Kong, China, Singapore           |113.0        |\n",
            "|Denmark, France, United States, Sweden|90.0         |\n",
            "|Brazil, France, Germany               |130.0        |\n",
            "|United States, Ireland                |100.0        |\n",
            "|Australia, United Arab Emirates       |95.67        |\n",
            "|United States, Germany, Australia     |97.0         |\n",
            "|France, Iran, United States           |122.0        |\n",
            "|United Kingdom, India, United States  |121.0        |\n",
            "+--------------------------------------+-------------+\n",
            "only showing top 10 rows\n",
            "\n"
          ]
        }
      ],
      "source": [
        "mediaDuracion = dfLimpio.groupBy(\"pais\").agg(round(avg(\"duracionMin\"),2).alias(\"mediaDuracion\"))\n",
        "mediaDuracion.show(10, truncate = False)"
      ]
    },
    {
      "cell_type": "code",
      "execution_count": 18,
      "metadata": {
        "colab": {
          "base_uri": "https://localhost:8080/"
        },
        "id": "oRzlWQjuLPEo",
        "outputId": "94090cb3-9c9f-4b9c-b772-0277aa10f3c5"
      },
      "outputs": [
        {
          "name": "stdout",
          "output_type": "stream",
          "text": [
            "+--------------------------------------+------------------+\n",
            "|pais                                  |duracionFormateada|\n",
            "+--------------------------------------+------------------+\n",
            "|South Africa, United States, Germany  |106 min 0 sec     |\n",
            "|Chile, United States, France          |96 min 0 sec      |\n",
            "|Hong Kong, China, Singapore           |113 min 0 sec     |\n",
            "|Denmark, France, United States, Sweden|90 min 0 sec      |\n",
            "|Brazil, France, Germany               |130 min 0 sec     |\n",
            "|United States, Ireland                |100 min 0 sec     |\n",
            "|Australia, United Arab Emirates       |95 min 40 sec     |\n",
            "|United States, Germany, Australia     |97 min 0 sec      |\n",
            "|France, Iran, United States           |122 min 0 sec     |\n",
            "|United Kingdom, India, United States  |121 min 0 sec     |\n",
            "+--------------------------------------+------------------+\n",
            "only showing top 10 rows\n",
            "\n"
          ]
        }
      ],
      "source": [
        "mediaDuracion = mediaDuracion.withColumn(\"minutos\", floor(col(\"mediaDuracion\"))) \\\n",
        "                             .withColumn(\"segundos\", round((col(\"mediaDuracion\") - col(\"minutos\")) * 60, 0).cast(\"int\")) \\\n",
        "                             .withColumn(\"duracionFormateada\", expr(\"concat(minutos, ' min ', segundos, ' sec')\")) \\\n",
        "                             .drop(\"mediaDuracion\", \"minutos\", \"segundos\")\n",
        "\n",
        "mediaDuracion.show(10, truncate=False)\n"
      ]
    },
    {
      "cell_type": "code",
      "execution_count": 19,
      "metadata": {
        "colab": {
          "base_uri": "https://localhost:8080/"
        },
        "id": "LDDT2jkPJuj9",
        "outputId": "473fe57f-f271-4de0-f7cc-aed8dbe78a06"
      },
      "outputs": [
        {
          "name": "stdout",
          "output_type": "stream",
          "text": [
            "+--------------+\n",
            "|paisIndividual|\n",
            "+--------------+\n",
            "|     Hong Kong|\n",
            "| United States|\n",
            "|United Kingdom|\n",
            "|         India|\n",
            "|         India|\n",
            "|         India|\n",
            "| United States|\n",
            "| United States|\n",
            "|         India|\n",
            "|         India|\n",
            "+--------------+\n",
            "only showing top 10 rows\n",
            "\n"
          ]
        }
      ],
      "source": [
        "df_paisIndividual = dfLimpio.withColumn(\"paisIndividual\", explode(split(dfLimpio.pais, \", \")))\n",
        "df_paisIndividual.select(\"paisIndividual\").show(10)"
      ]
    },
    {
      "cell_type": "code",
      "execution_count": 20,
      "metadata": {
        "colab": {
          "base_uri": "https://localhost:8080/"
        },
        "id": "azHBcMyvJ9pi",
        "outputId": "5d85038a-a0ab-4e51-b6c2-6912ebd114b9"
      },
      "outputs": [
        {
          "name": "stdout",
          "output_type": "stream",
          "text": [
            "+--------------+------------------------+\n",
            "|paisIndividual|mediaDuracionSiParticipa|\n",
            "+--------------+------------------------+\n",
            "|   Afghanistan|                    84.0|\n",
            "|       Albania|                   105.0|\n",
            "|     Argentina|                    91.0|\n",
            "+--------------+------------------------+\n",
            "only showing top 3 rows\n",
            "\n"
          ]
        }
      ],
      "source": [
        "mediaDuracionSiParticipa = df_paisIndividual.groupBy(\"paisIndividual\").agg(round(avg(\"duracion\"),2).alias(\"mediaDuracionSiParticipa\"))\n",
        "mediaDuracionSiParticipa.orderBy(\"paisIndividual\").show(3)"
      ]
    },
    {
      "cell_type": "code",
      "execution_count": 21,
      "metadata": {
        "colab": {
          "base_uri": "https://localhost:8080/"
        },
        "id": "9wZ-N-8hLdbA",
        "outputId": "25d8cca2-a908-4bc9-dbba-0dd3db5ea70f"
      },
      "outputs": [
        {
          "name": "stdout",
          "output_type": "stream",
          "text": [
            "+--------------+------------------+\n",
            "|paisIndividual|duracionFormateada|\n",
            "+--------------+------------------+\n",
            "|Russia        |101 min 0 sec     |\n",
            "|Senegal       |106 min 0 sec     |\n",
            "|Sweden        |99 min 32 sec     |\n",
            "|Philippines   |115 min 47 sec    |\n",
            "|Singapore     |100 min 7 sec     |\n",
            "|Malaysia      |101 min 22 sec    |\n",
            "|Turkey        |99 min 56 sec     |\n",
            "|Malawi        |114 min 0 sec     |\n",
            "|Iraq          |76 min 0 sec      |\n",
            "|Germany       |102 min 42 sec    |\n",
            "+--------------+------------------+\n",
            "only showing top 10 rows\n",
            "\n"
          ]
        }
      ],
      "source": [
        "mediaDuracionSiParticipa = mediaDuracionSiParticipa.withColumn(\"minutos\", floor(col(\"mediaDuracionSiParticipa\"))) \\\n",
        "                             .withColumn(\"segundos\", round((col(\"mediaDuracionSiParticipa\") - col(\"minutos\")) * 60, 0).cast(\"int\")) \\\n",
        "                             .withColumn(\"duracionFormateada\", expr(\"concat(minutos, ' min ', segundos, ' sec')\")) \\\n",
        "                             .drop(\"mediaDuracionSiParticipa\", \"minutos\", \"segundos\")\n",
        "\n",
        "mediaDuracionSiParticipa.show(10, truncate=False)\n"
      ]
    },
    {
      "cell_type": "code",
      "execution_count": 22,
      "metadata": {
        "colab": {
          "base_uri": "https://localhost:8080/"
        },
        "id": "piJgJ8oyg6w-",
        "outputId": "4eb5a42b-db0b-4c2b-bf31-fdf38e0e3309"
      },
      "outputs": [
        {
          "name": "stdout",
          "output_type": "stream",
          "text": [
            "+-------------+--------------+------------------+\n",
            "|Pais         |Media General |Media Si Participa|\n",
            "+-------------+--------------+------------------+\n",
            "|France       |94 min 48 sec |99 min 16 sec     |\n",
            "|United States|89 min 50 sec |91 min 8 sec      |\n",
            "|India        |128 min 51 sec|126 min 52 sec    |\n",
            "|Spain        |101 min 38 sec|99 min 11 sec     |\n",
            "+-------------+--------------+------------------+\n",
            "\n"
          ]
        }
      ],
      "source": [
        "# Aquí se comprueba que había diferencia\n",
        "paises = [\"United States\", \"France\", \"India\", \"Spain\"]\n",
        "\n",
        "# Filtrar los DataFrames para incluir solo los países seleccionados\n",
        "mediaDuracionFiltrada = mediaDuracion.filter(mediaDuracion.pais.isin(paises))\n",
        "mediaDuracionSiParticipaFiltrada = mediaDuracionSiParticipa.filter(mediaDuracionSiParticipa.paisIndividual.isin(paises))\n",
        "\n",
        "# Hacer un join entre ambos DataFrames en la columna de país\n",
        "comparacionDuracion = mediaDuracionFiltrada.alias(\"general\").join(\n",
        "    mediaDuracionSiParticipaFiltrada.alias(\"participa\"),\n",
        "    mediaDuracionFiltrada.pais == mediaDuracionSiParticipaFiltrada.paisIndividual,\n",
        "    \"inner\"\n",
        ").select(\n",
        "    mediaDuracionFiltrada.pais.alias(\"Pais\"),\n",
        "    mediaDuracionFiltrada.duracionFormateada.alias(\"Media General\"),\n",
        "    mediaDuracionSiParticipaFiltrada.duracionFormateada.alias(\"Media Si Participa\")\n",
        ")\n",
        "\n",
        "comparacionDuracion.show(truncate=False)"
      ]
    },
    {
      "cell_type": "markdown",
      "metadata": {
        "id": "aqJ1xcN49_jO"
      },
      "source": [
        "## <center><font color='#1E90FF'>Actor más frecuente en musicales <a id=\"actor-musicales\"></a></font></center>\n",
        "\n",
        "Otra consulta clave consistió en identificar al actor más frecuente en películas relacionadas con la temática *\"music\"* cuya duración supera los 90 minutos. El procedimiento que realicé para resolver este análisis fue:\n",
        "\n",
        "1. **Filtrado del DataFrame**: Seleccioné únicamente películas (*categoria = \"Movie\"*) con la palabra *\"music\"* en su descripción (previamente convertida a minúsculas) y duración superior a 90 minutos.\n",
        "2. **Separación del reparto**: Dividí el campo reparto usando `split()` y `explode()`, generando filas individuales por cada actor.\n",
        "3. **Conteo de apariciones**: Agrupé los resultados por actor, contando cuántas veces aparecía cada uno dentro del conjunto filtrado.\n",
        "4. **Ordenación y selección**: Ordené el resultado por frecuencia descendente, identificando al actor con más apariciones.\n",
        "\n",
        "El actor más frecuente bajo estas condiciones fue **Note Chern-Yim**, quien participó en *2 películas* del subconjunto analizado, aunque cabe señalar que existieron otros actores con la misma cantidad de apariciones."
      ]
    },
    {
      "cell_type": "code",
      "execution_count": 23,
      "metadata": {
        "colab": {
          "base_uri": "https://localhost:8080/"
        },
        "id": "oW4pyRkvhjIp",
        "outputId": "e8d8e6cc-aec1-45dd-9638-b40a8d9f93ab"
      },
      "outputs": [
        {
          "name": "stdout",
          "output_type": "stream",
          "text": [
            "+-------------------+-----------------+\n",
            "|    actorIndividual|numeroActuaciones|\n",
            "+-------------------+-----------------+\n",
            "|     Note Chern-Yim|                2|\n",
            "|      Divyadarshini|                2|\n",
            "|            Vineeth|                2|\n",
            "|        Divya Dutta|                2|\n",
            "|          Kumaravel|                2|\n",
            "|    Michelle Buteau|                2|\n",
            "|       Ravi Prakash|                2|\n",
            "|      Nedumudi Venu|                2|\n",
            "|  Aparna Balamurali|                2|\n",
            "|             Sumesh|                2|\n",
            "| G.V. Prakash Kumar|                2|\n",
            "|       Quincy Jones|                2|\n",
            "|       Wayne Kramer|                1|\n",
            "|    Graham Phillips|                1|\n",
            "|        Maris Racal|                1|\n",
            "|          Ione Skye|                1|\n",
            "|         Dana Fuchs|                1|\n",
            "|  Yoakyake Chernyim|                1|\n",
            "|        Jett Pangan|                1|\n",
            "|        Vivian Bang|                1|\n",
            "|Apisit Opasaimlikit|                1|\n",
            "|       Chris D'Elia|                1|\n",
            "|       Keanu Reeves|                1|\n",
            "|     Rosario Dawson|                1|\n",
            "|             Chi Pu|                1|\n",
            "|       Jim Sturgess|                1|\n",
            "|      Colin Woodell|                1|\n",
            "|        Mahira Khan|                1|\n",
            "|       Arshad Warsi|                1|\n",
            "|     Sarah Geronimo|                1|\n",
            "+-------------------+-----------------+\n",
            "only showing top 30 rows\n",
            "\n",
            "Hay muchos actores con 2 actuaciones, pero en este caso nos vamos a quedar con el primero que sale que es Note Chern-Yim\n"
          ]
        }
      ],
      "source": [
        "dfLimpio = dfLimpio.filter((dfLimpio.categoria==\"Movie\") & (lower(dfLimpio.descripcion).contains(\"music\")) & (dfLimpio.duracion > 90))\n",
        "\n",
        "masApariciones = dfLimpio.withColumn(\"actorIndividual\", explode(split(dfLimpio.reparto, \", \")))\n",
        "masApariciones = masApariciones.groupBy(\"actorIndividual\").agg(count(\"actorIndividual\").alias(\"numeroActuaciones\"))\n",
        "masApariciones.orderBy(\"numeroActuaciones\", ascending=False).show(30)\n",
        "\n",
        "actorMasApariciones = masApariciones.orderBy(\"numeroActuaciones\", ascending=False).collect()[0][0]\n",
        "\n",
        "print(f\"Hay muchos actores con 2 actuaciones, pero en este caso nos vamos a quedar con el primero que sale que es {actorMasApariciones}\")"
      ]
    },
    {
      "cell_type": "markdown",
      "metadata": {
        "id": "JLditeD_-AIG"
      },
      "source": [
        "## <center><font color='#1E90FF'>Diferencia semanal entre películas <a id=\"diferencia\"></a></font></center>\n",
        "\n",
        "En esta fase, analicé la diferencia semanal entre películas con temática \"music\" de duración mayor a 90 minutos, protagonizadas por el actor más frecuente. El objetivo fue determinar el intervalo temporal entre su primera y última aparición en esta categoría específica. Para ello:\n",
        "\n",
        "- Tomé como referencia el DataFrame filtrado (`df_music`) obtenido anteriormente, que ya cumplía los requisitos definidos.\n",
        "- Filtré específicamente los títulos protagonizados por el actor más frecuente identificado.\n",
        "- Dado que solo disponía de fechas de estreno en Netflix y años originales, decidí obtener fechas de estreno reales desde IMDb usando web scraping (`requests` y `BeautifulSoup`).\n",
        "- Obtuve las fechas exactas para cada película consultando IMDb (por ejemplo: *\"Holy Man 2\"*: 24 de diciembre de 2008, *\"Holy Man 3\"*: 5 de abril de 2010, ilustrativamente).\n",
        "- Asocié estas fechas al DataFrame filtrado mediante un `join`.\n",
        "- Convertí finalmente estas fechas al tipo `DateType` de Spark para realizar cálculos de intervalo con precisión.\n",
        "\n",
        "Con estos pasos, pude determinar con exactitud la diferencia en semanas entre las fechas extremas de aparición del actor en películas relacionadas con música.\n",
        "\n",
        "### ¿Cómo lo resolví?\n",
        "Obtuve las fechas reales de estreno mediante *scraping* con `BeautifulSoup` desde IMDb y las asocié al DataFrame, calculando luego la diferencia temporal entre estas fechas reales para cuantificar la dispersión en semanas.\n",
        "\n",
        "### Características del código\n",
        "- **Web scraping con `requests` y `BeautifulSoup`**: Permite incorporar datos externos confiables (IMDb).\n",
        "- **Uso de `join` y `to_date()`**: Facilitan un cálculo preciso y claro del intervalo temporal entre producciones.\n"
      ]
    },
    {
      "cell_type": "code",
      "execution_count": 24,
      "metadata": {
        "id": "sfOKuHIOSnfI"
      },
      "outputs": [],
      "source": [
        "holy = dfLimpio.filter(dfLimpio.reparto.contains(actorMasApariciones))"
      ]
    },
    {
      "cell_type": "code",
      "execution_count": 25,
      "metadata": {
        "colab": {
          "base_uri": "https://localhost:8080/"
        },
        "id": "t84ZrO9zXvBI",
        "outputId": "d7f2686d-16a3-414c-9886-eb96730d3919"
      },
      "outputs": [
        {
          "name": "stdout",
          "output_type": "stream",
          "text": [
            "+----------+----------------+\n",
            "|    titulo|fechaEstrenoReal|\n",
            "+----------+----------------+\n",
            "|Holy Man 2| October 2, 2008|\n",
            "|Holy Man 3| August 12, 2010|\n",
            "+----------+----------------+\n",
            "\n"
          ]
        }
      ],
      "source": [
        "# Diccionario con las películas y sus URLs de IMDb\n",
        "urls = {\n",
        "    'Holy Man 2': 'https://www.imdb.com/title/tt3051874/releaseinfo/',\n",
        "    'Holy Man 3': 'https://www.imdb.com/title/tt1720154/releaseinfo/'\n",
        "}\n",
        "\n",
        "# Función para extraer la fecha de estreno desde IMDb\n",
        "def obtener_fecha_estreno(url):\n",
        "    response = requests.get(url, headers={\"User-Agent\": \"Mozilla/5.0\"})\n",
        "    if response.status_code == 200:\n",
        "        soup = BeautifulSoup(response.text, 'html.parser')\n",
        "        # (Basado en la estructura actual de IMDb)\n",
        "        fecha_span = soup.find_all(\"span\", class_=\"ipc-metadata-list-item__list-content-item\")\n",
        "\n",
        "        if fecha_span:\n",
        "            release_date = fecha_span[0].text.strip()\n",
        "            return release_date\n",
        "        else:\n",
        "            return None\n",
        "    else:\n",
        "        print(f\"Error al acceder a la página {url}. Código: {response.status_code}\")\n",
        "        return None\n",
        "\n",
        "# Crear una lista de tuplas (título, fecha_estreno)\n",
        "data = []\n",
        "for titulo, url in urls.items():\n",
        "    fecha_estreno = obtener_fecha_estreno(url)\n",
        "    if fecha_estreno:\n",
        "        data.append((titulo, fecha_estreno))\n",
        "\n",
        "\n",
        "dfFechasReales = spark.createDataFrame(data, [\"titulo\", \"fechaEstrenoReal\"])\n",
        "\n",
        "# Mostrar el DataFrame\n",
        "dfFechasReales.show()"
      ]
    },
    {
      "cell_type": "code",
      "execution_count": 26,
      "metadata": {
        "colab": {
          "base_uri": "https://localhost:8080/"
        },
        "id": "n4MsiRb8nmYc",
        "outputId": "71c0727d-6dd0-42af-8412-d98d143928fd"
      },
      "outputs": [
        {
          "name": "stdout",
          "output_type": "stream",
          "text": [
            "+----------+--------+---------+--------------+--------------------+--------+--------------+---------------+------------+--------+--------------------+--------------------+-----------+-------------+----------------+\n",
            "|    titulo|      id|categoria|      director|             reparto|    pais|estrenoNetflix|anioEstrenoReal|subcategoria|duracion|              genero|         descripcion|duracionMin|numTemporadas|fechaEstrenoReal|\n",
            "+----------+--------+---------+--------------+--------------------+--------+--------------+---------------+------------+--------+--------------------+--------------------+-----------+-------------+----------------+\n",
            "|Holy Man 2|80999990|    Movie|Note Chern-Yim|Apisit Opasaimlik...|Thailand|    2018-07-30|           2008|       TV-14|      92|Comedies, Faith &...|Former rap musici...|         92|         NULL| October 2, 2008|\n",
            "|Holy Man 3|80999991|    Movie|Note Chern-Yim|Krissada Sukosol,...|Thailand|    2018-07-30|           2010|       TV-14|     102|Comedies, Faith &...|Two new monks, on...|        102|         NULL| August 12, 2010|\n",
            "+----------+--------+---------+--------------+--------------------+--------+--------------+---------------+------------+--------+--------------------+--------------------+-----------+-------------+----------------+\n",
            "\n",
            "+--------------+\n",
            "|diferenciaDias|\n",
            "+--------------+\n",
            "|           679|\n",
            "+--------------+\n",
            "\n",
            "Entre la primera película de Note Chern-Yim según el filtro aplicado, es decir entre Holy Man 2 y Holy Man 3 han pasado 97.0 semanas\n"
          ]
        }
      ],
      "source": [
        "dfJoin = holy.join(dfFechasReales, on='titulo', how='left')\n",
        "dfJoin.show()\n",
        "\n",
        "dfJoin = dfJoin.withColumn(\n",
        "    \"fechaEstrenoReal\",\n",
        "    to_date(dfJoin.fechaEstrenoReal, \"MMMM d, yyyy\")\n",
        ")\n",
        "\n",
        "dfDiff = dfJoin.select(\n",
        "    datediff(\n",
        "        max(\"fechaEstrenoReal\"),\n",
        "        min(\"fechaEstrenoReal\")\n",
        "    ).alias(\"diferenciaDias\")\n",
        ")\n",
        "\n",
        "dfDiff.show()\n",
        "\n",
        "print(f\"Entre la primera película de {actorMasApariciones} según el filtro aplicado, es decir entre {dfFechasReales.collect()[0][0]} y {dfFechasReales.collect()[1][0]} han pasado {dfDiff.collect()[0][0]/7} semanas\")"
      ]
    },
    {
      "cell_type": "markdown",
      "metadata": {
        "id": "9q9vv-ll-A8B"
      },
      "source": [
        "## <center><font color='#1E90FF'>Transformación de género a array <a id=\"genero-array\"></a></font></center>\n",
        "\n",
        "El siguiente paso fue transformar la columna `genero`, originalmente en texto plano, en una estructura tipo lista (array) que facilitase futuras consultas y filtrados específicos por género. Para ello, usé la función `split()` de Spark, especificando la coma como separador, obteniendo así una lista de géneros individuales por cada registro.\n",
        "\n",
        "Este proceso convirtió valores como `\"Comedy, Drama\"` en un array del tipo `[\"Comedy\", \"Drama\"]`, facilitando análisis posteriores que requieran acceder individualmente a cada género (por ejemplo, contar apariciones o filtrar por género específico).\n",
        "\n",
        "### ¿Cómo lo resolví?\n",
        "Convertí el texto plano en una estructura de array claramente manejable usando la función `split()`. Esto permitió una mejor organización y aprovechamiento de la información por género en análisis posteriores."
      ]
    },
    {
      "cell_type": "code",
      "execution_count": 27,
      "metadata": {
        "colab": {
          "base_uri": "https://localhost:8080/"
        },
        "id": "8ozh3l52SKTD",
        "outputId": "09b85401-2da6-455c-df90-dfe9cd1be942"
      },
      "outputs": [
        {
          "name": "stdout",
          "output_type": "stream",
          "text": [
            "+-----------------------------------------------+---------------------------------------------------+\n",
            "|genero                                         |generosArray                                       |\n",
            "+-----------------------------------------------+---------------------------------------------------+\n",
            "|Stand-Up Comedy                                |[Stand-Up Comedy]                                  |\n",
            "|Documentaries                                  |[Documentaries]                                    |\n",
            "|Stand-Up Comedy                                |[Stand-Up Comedy]                                  |\n",
            "|Comedies, Dramas, Independent Movies           |[Comedies,  Dramas,  Independent Movies]           |\n",
            "|British TV Shows, Reality TV, Romantic TV Shows|[British TV Shows,  Reality TV,  Romantic TV Shows]|\n",
            "+-----------------------------------------------+---------------------------------------------------+\n",
            "only showing top 5 rows\n",
            "\n"
          ]
        }
      ],
      "source": [
        "df = df.withColumn(\"generosArray\", split(df.genero, \",\"))\n",
        "\n",
        "df.select(\"genero\", \"generosArray\").show(5, truncate=False)"
      ]
    },
    {
      "cell_type": "markdown",
      "metadata": {
        "id": "_Ad-7eCL-Bf-"
      },
      "source": [
        "## <center><font color='#1E90FF'>Conteo por número de países <a id=\"conteo-paises\"></a></font></center>\n",
        "\n",
        "Otra consulta relevante fue determinar cuántas producciones del catálogo corresponden a un único país, frente a cuántas fueron realizadas en colaboración entre dos o más países. Para ello, realicé lo siguiente:\n",
        "\n",
        "### Creación de una columna auxiliar\n",
        "Implementé una función UDF sencilla (`contarPaises`) que cuenta el número de países listados en la columna `pais`, basándose en el número de comas presentes más uno.\n",
        "\n",
        "### Aplicación de la función\n",
        "Añadí la columna `numeroPaises` al DataFrame, identificando fácilmente cuántos países participaron en cada producción.\n",
        "\n",
        "### Conteo de producciones\n",
        "Separé las **producciones individuales** (únicamente un país involucrado) de las **coproducciones** (dos o más países).  \n",
        "\n",
        "**Ejemplo:**  \n",
        "- Un registro con `pais = \"India\"` tendría `numeroPaises = 1`.  \n",
        "- Un registro con `pais = \"United States, Mexico\"` tendría `numeroPaises = 2`.  \n",
        "---\n"
      ]
    },
    {
      "cell_type": "code",
      "execution_count": 28,
      "metadata": {
        "colab": {
          "base_uri": "https://localhost:8080/"
        },
        "id": "lB2cL1ye-B9m",
        "outputId": "a27ec723-ef15-4ef3-cb30-10f8ebb0b560"
      },
      "outputs": [
        {
          "name": "stdout",
          "output_type": "stream",
          "text": [
            "En 4 películas solamente había un país involucrado en su producción y en 49 películas había más de un país involucrado\n"
          ]
        }
      ],
      "source": [
        "def contarPaises(paises):\n",
        "  return paises.count(\",\") + 1\n",
        "\n",
        "contarPaises = udf(contarPaises, IntegerType())\n",
        "\n",
        "dfLimpio = dfLimpio.withColumn(\"numeroPaises\", contarPaises(dfLimpio.pais))\n",
        "producciones1pais = dfLimpio.filter(dfLimpio.numeroPaises > 1).count()\n",
        "produccionesVariosPaises = dfLimpio.filter(dfLimpio.numeroPaises == 1).count()\n",
        "\n",
        "\n",
        "print(f\"En {producciones1pais} películas solamente había un país involucrado en su producción y en {produccionesVariosPaises} películas había más de un país involucrado\")"
      ]
    },
    {
      "cell_type": "markdown",
      "metadata": {
        "id": "RPyCrpO9G9M3"
      },
      "source": [
        "## <center><font color='#1E90FF'>Exportación a Parquet <a id=\"parquet\"></a></font></center>\n",
        "\n",
        "Finalmente, tras completar las etapas de limpieza y análisis preliminar, exporté el DataFrame resultante a un archivo en formato **Parquet**. Este formato ofrece ventajas significativas para entornos analíticos intensivos\n",
        "\n",
        "Realicé esta exportación indicando la opción `mode=\"overwrite\"` para asegurar que, si existía un archivo previo en la ruta especificada, fuera sustituido directamente por la nueva versión."
      ]
    },
    {
      "cell_type": "code",
      "execution_count": 29,
      "metadata": {
        "colab": {
          "base_uri": "https://localhost:8080/"
        },
        "id": "WVV3pxWQHAIP",
        "outputId": "49546b52-a71d-4e9b-a577-8c329aeb3386"
      },
      "outputs": [
        {
          "name": "stdout",
          "output_type": "stream",
          "text": [
            "DataFrame limpio guardado como Parquet en /tmp/netflixLimpioFiltrado.parquet\n"
          ]
        }
      ],
      "source": [
        "parquet = \"/tmp/netflixLimpioFiltrado.parquet\"\n",
        "dfLimpio.write.parquet(parquet, mode=\"overwrite\")\n",
        "print(f\"DataFrame limpio guardado como Parquet en {parquet}\")\n"
      ]
    }
  ],
  "metadata": {
    "colab": {
      "provenance": []
    },
    "kernelspec": {
      "display_name": "Python 3",
      "name": "python3"
    },
    "language_info": {
      "name": "python"
    }
  },
  "nbformat": 4,
  "nbformat_minor": 0
}
